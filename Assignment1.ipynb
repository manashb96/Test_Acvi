{
 "cells": [
  {
   "cell_type": "code",
   "execution_count": 209,
   "id": "congressional-conversion",
   "metadata": {},
   "outputs": [],
   "source": [
    "#Import Libraries\n",
    "import cv2 as cv\n",
    "import matplotlib.pyplot as plt\n",
    "import numpy as np"
   ]
  },
  {
   "cell_type": "code",
   "execution_count": 217,
   "id": "clinical-batch",
   "metadata": {},
   "outputs": [],
   "source": [
    "#Image path\n",
    "\n",
    "###Image path for non-symmetrical encoded images\n",
    "#image_path ='Non-Symmetrical/11.png'\n",
    "###Image path for symmetrical encoded images\n",
    "image_path ='Symmetrical/11.png'\n",
    "\n",
    "#Template path\n",
    "template_path ='dot.png'"
   ]
  },
  {
   "cell_type": "code",
   "execution_count": 218,
   "id": "friendly-capture",
   "metadata": {},
   "outputs": [],
   "source": [
    "#Read image\n",
    "img_rgb = cv.imread(image_path)\n",
    "\n",
    "# img_gray = cv.cvtColor(img_rgb, cv.COLOR_BGR2GRAY)\n",
    "#Get template\n",
    "template = cv.imread(template_path,0)\n",
    "template = cv.cvtColor(template,cv.COLOR_BGR2RGB)\n",
    "w, h,_ = template.shape"
   ]
  },
  {
   "cell_type": "code",
   "execution_count": 219,
   "id": "sticky-cherry",
   "metadata": {},
   "outputs": [],
   "source": [
    "row_half=int(img_rgb.shape[0]/2)\n",
    "col_half=int(img_rgb.shape[1]/2)\n",
    "#Divide images into 4 quadrants\n",
    "img_1quad=img_rgb[:row_half,:col_half]\n",
    "img_2quad=img_rgb[:row_half,col_half:]\n",
    "img_3quad=img_rgb[row_half:,:col_half]\n",
    "img_4quad=img_rgb[row_half:,col_half:]"
   ]
  },
  {
   "cell_type": "code",
   "execution_count": 220,
   "id": "pretty-consistency",
   "metadata": {},
   "outputs": [],
   "source": [
    "'''\n",
    "We detect presence of dots in each specific quadrant\n",
    "And based on the presence/absence of dots in the quadrant\n",
    "we keep a counter and based on the final value of the counter\n",
    "we map it to a dictionary to output the binary values\n",
    "'''\n",
    "img_rgb=img_1quad\n",
    "#Template matching on quadrant 1\n",
    "res = cv.matchTemplate(img_rgb,template,cv.TM_CCOEFF_NORMED)\n",
    "threshold = 0.6\n",
    "loc = np.where( res >= threshold)\n",
    "#To keep count of number of detections    \n",
    "f_1=set()\n",
    "    \n",
    "for pt in zip(*loc[::-1]):\n",
    "    #Draw rectangle for image interpretation\n",
    "    cv.rectangle(img_rgb, pt, (pt[0] + w, pt[1] + h), (255,0,255), 2)\n",
    "    #Tunable sensitivity\n",
    "    sensitivity = 100\n",
    "    f_1.add((round(pt[0]/sensitivity), round(pt[1]/sensitivity)))\n",
    "\n",
    "img_rgb=img_2quad\n",
    "#Template matching on quadrant 2\n",
    "res = cv.matchTemplate(img_rgb,template,cv.TM_CCOEFF_NORMED)\n",
    "threshold = 0.6\n",
    "loc = np.where( res >= threshold)\n",
    "#To keep count of number of detections    \n",
    "f_2=set()\n",
    "    \n",
    "for pt in zip(*loc[::-1]):\n",
    "    #Draw rectangle for image interpretation\n",
    "    cv.rectangle(img_rgb, pt, (pt[0] + w, pt[1] + h), (255,0,255), 2)\n",
    "    #Tunable sensitivity\n",
    "    sensitivity = 100\n",
    "    f_2.add((round(pt[0]/sensitivity), round(pt[1]/sensitivity)))\n",
    "\n",
    "img_rgb=img_3quad\n",
    "#Template matching on quadrant 3\n",
    "res = cv.matchTemplate(img_rgb,template,cv.TM_CCOEFF_NORMED)\n",
    "threshold = 0.6\n",
    "loc = np.where( res >= threshold)\n",
    "#To keep count of number of detections    \n",
    "f_3=set()\n",
    "    \n",
    "for pt in zip(*loc[::-1]):\n",
    "    #Draw rectangle for image interpretation\n",
    "    cv.rectangle(img_rgb, pt, (pt[0] + w, pt[1] + h), (255,0,255), 2)\n",
    "    #Tunable sensitivity\n",
    "    sensitivity = 100\n",
    "    f_3.add((round(pt[0]/sensitivity), round(pt[1]/sensitivity)))\n",
    "\n",
    "img_rgb=img_4quad\n",
    "#Template matching on quadrant 4\n",
    "res = cv.matchTemplate(img_rgb,template,cv.TM_CCOEFF_NORMED)\n",
    "threshold = 0.6\n",
    "loc = np.where( res >= threshold)\n",
    "#To keep count of number of detections    \n",
    "f_4=set()\n",
    "    \n",
    "for pt in zip(*loc[::-1]):\n",
    "    #Draw rectangle for image interpretation\n",
    "    cv.rectangle(img_rgb, pt, (pt[0] + w, pt[1] + h), (255,0,255), 2)\n",
    "    #Tunable sensitivity\n",
    "    sensitivity = 100\n",
    "    f_4.add((round(pt[0]/sensitivity), round(pt[1]/sensitivity)))"
   ]
  },
  {
   "cell_type": "code",
   "execution_count": 221,
   "id": "agricultural-arrival",
   "metadata": {},
   "outputs": [
    {
     "name": "stdout",
     "output_type": "stream",
     "text": [
      "Binary decoding:  1011\n"
     ]
    }
   ],
   "source": [
    "sum=0\n",
    "if len(f_1)!=0:\n",
    "    sum=1000+sum\n",
    "if len(f_2)!=0:\n",
    "    sum=100+sum\n",
    "if len(f_3)!=0:\n",
    "    sum=10+sum\n",
    "if len(f_4)!=0:\n",
    "    sum=1+sum\n",
    "    \n",
    "match_dict={\n",
    "    0:'0000',\n",
    "    1:'0001',\n",
    "    10:'0010',\n",
    "    11:'0011',\n",
    "    100:'0100',\n",
    "    101:'0101',\n",
    "    110:'0110',\n",
    "    111:'0111',\n",
    "    1000:'1000',\n",
    "    1001:'1001',\n",
    "    1010:'1010',\n",
    "    1011:'1011',\n",
    "    1100:'1100',\n",
    "    1101:'1101',\n",
    "    1110:'1110',\n",
    "    1111:'1111'\n",
    "}\n",
    "\n",
    "print('Binary decoding: ',match_dict[sum])"
   ]
  },
  {
   "cell_type": "code",
   "execution_count": 222,
   "id": "shaped-header",
   "metadata": {},
   "outputs": [
    {
     "data": {
      "image/png": "[encoded data removed]",
      "text/plain": [
       "<Figure size 432x288 with 1 Axes>"
      ]
     },
     "metadata": {
      "needs_background": "light"
     },
     "output_type": "display_data"
    }
   ],
   "source": [
    "### Using Template matching we detect presence of dots\n",
    "img_rgb = cv.imread(image_path)\n",
    "res = cv.matchTemplate(img_rgb,template,cv.TM_CCOEFF_NORMED)\n",
    "threshold = 0.6\n",
    "loc = np.where( res >= threshold)\n",
    "#To keep count of number of detections    \n",
    "   \n",
    "for pt in zip(*loc[::-1]):\n",
    "    #Draw rectangle for image interpretation\n",
    "    cv.rectangle(img_rgb, pt, (pt[0] + w, pt[1] + h), (0,0,255), 2)\n",
    "\n",
    "img_rgb = cv.cvtColor(img_rgb, cv.COLOR_BGR2RGB)\n",
    "plt.imshow(img_rgb)\n",
    "plt.show()"
   ]
  }
 ],
 "metadata": {
  "kernelspec": {
   "display_name": "Tensorflow_GPU Python 3.7",
   "language": "python",
   "name": "tfgpu"
  },
  "language_info": {
   "codemirror_mode": {
    "name": "ipython",
    "version": 3
   },
   "file_extension": ".py",
   "mimetype": "text/x-python",
   "name": "python",
   "nbconvert_exporter": "python",
   "pygments_lexer": "ipython3",
   "version": "3.7.9"
  }
 },
 "nbformat": 4,
 "nbformat_minor": 5
}
